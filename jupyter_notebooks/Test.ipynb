{
 "cells": [
  {
   "cell_type": "code",
   "execution_count": 1,
   "id": "79956505-cc9e-4689-8a1e-2f11e51d8859",
   "metadata": {},
   "outputs": [
    {
     "name": "stdout",
     "output_type": "stream",
     "text": [
      "1. Jupyter_Basics.ipynb Test.ipynb              \u001b[34mimages\u001b[m\u001b[m\n"
     ]
    }
   ],
   "source": [
    "!ls"
   ]
  },
  {
   "cell_type": "code",
   "execution_count": 2,
   "id": "b4415590-021c-4b9d-b8ef-37c20c45cf88",
   "metadata": {},
   "outputs": [
    {
     "name": "stdout",
     "output_type": "stream",
     "text": [
      "/Users/bridgetfields/Documents/GitHub/data-science/jupyter_notebooks\n"
     ]
    }
   ],
   "source": [
    "!pwd"
   ]
  },
  {
   "cell_type": "code",
   "execution_count": 4,
   "id": "74323e25-4a92-4450-b24a-ac2bd7b45518",
   "metadata": {},
   "outputs": [
    {
     "name": "stdout",
     "output_type": "stream",
     "text": [
      "20200804_AI_CMM.png         Neuron_RELU.png\n",
      "AI-ML-DataOps4.png          Neuron_Sigmoidal.png\n",
      "AI_Hype_Cycle.png           RELU_Activation.png\n",
      "AI_Sustainment_Cycle.png    SageMaker_Studio.png\n",
      "ANN.png                     Sigmoidal_Activation.png\n",
      "Azure_Jupyter.png           colab.png\n",
      "DNN.png                     dataframe.png\n",
      "DataRobotJupyter.png        jetsontx2.png\n",
      "Gartner_priority_matrix.png logo.png\n",
      "Jupyter_Project.png         \u001b[34mml\u001b[m\u001b[m\n"
     ]
    }
   ],
   "source": [
    "!ls images"
   ]
  },
  {
   "cell_type": "code",
   "execution_count": null,
   "id": "66b7c9c2-c0d0-4b6e-add5-6a0bf82ca56f",
   "metadata": {},
   "outputs": [],
   "source": []
  }
 ],
 "metadata": {
  "kernelspec": {
   "display_name": "Python 3",
   "language": "python",
   "name": "python3"
  },
  "language_info": {
   "codemirror_mode": {
    "name": "ipython",
    "version": 3
   },
   "file_extension": ".py",
   "mimetype": "text/x-python",
   "name": "python",
   "nbconvert_exporter": "python",
   "pygments_lexer": "ipython3",
   "version": "3.8.8"
  }
 },
 "nbformat": 4,
 "nbformat_minor": 5
}
